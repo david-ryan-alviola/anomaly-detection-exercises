{
 "cells": [
  {
   "cell_type": "code",
   "execution_count": 20,
   "id": "wanted-retail",
   "metadata": {},
   "outputs": [],
   "source": [
    "import env\n",
    "import utilities as utils\n",
    "import pandas as pd\n",
    "import numpy as np\n",
    "import matplotlib.pyplot as plt\n",
    "import seaborn as sns"
   ]
  },
  {
   "cell_type": "markdown",
   "id": "sticky-indication",
   "metadata": {},
   "source": [
    "1. Using lemonade.csv dataset and focusing on continuous variables:"
   ]
  },
  {
   "cell_type": "code",
   "execution_count": 3,
   "id": "international-portal",
   "metadata": {},
   "outputs": [],
   "source": [
    "lemonade_df = pd.read_csv(env.data_path + \"lemonade.csv\")"
   ]
  },
  {
   "cell_type": "code",
   "execution_count": 11,
   "id": "checked-commander",
   "metadata": {},
   "outputs": [
    {
     "data": {
      "text/html": [
       "<div>\n",
       "<style scoped>\n",
       "    .dataframe tbody tr th:only-of-type {\n",
       "        vertical-align: middle;\n",
       "    }\n",
       "\n",
       "    .dataframe tbody tr th {\n",
       "        vertical-align: top;\n",
       "    }\n",
       "\n",
       "    .dataframe thead th {\n",
       "        text-align: right;\n",
       "    }\n",
       "</style>\n",
       "<table border=\"1\" class=\"dataframe\">\n",
       "  <thead>\n",
       "    <tr style=\"text-align: right;\">\n",
       "      <th></th>\n",
       "      <th>Temperature</th>\n",
       "      <th>Rainfall</th>\n",
       "      <th>Flyers</th>\n",
       "      <th>Price</th>\n",
       "      <th>Sales</th>\n",
       "    </tr>\n",
       "  </thead>\n",
       "  <tbody>\n",
       "    <tr>\n",
       "      <th>count</th>\n",
       "      <td>365.000000</td>\n",
       "      <td>365.000000</td>\n",
       "      <td>365.000000</td>\n",
       "      <td>365.0</td>\n",
       "      <td>365.000000</td>\n",
       "    </tr>\n",
       "    <tr>\n",
       "      <th>mean</th>\n",
       "      <td>61.224658</td>\n",
       "      <td>0.825973</td>\n",
       "      <td>40.104110</td>\n",
       "      <td>0.5</td>\n",
       "      <td>27.865753</td>\n",
       "    </tr>\n",
       "    <tr>\n",
       "      <th>std</th>\n",
       "      <td>18.085892</td>\n",
       "      <td>0.273890</td>\n",
       "      <td>13.786445</td>\n",
       "      <td>0.0</td>\n",
       "      <td>30.948132</td>\n",
       "    </tr>\n",
       "    <tr>\n",
       "      <th>min</th>\n",
       "      <td>15.100000</td>\n",
       "      <td>0.400000</td>\n",
       "      <td>-38.000000</td>\n",
       "      <td>0.5</td>\n",
       "      <td>7.000000</td>\n",
       "    </tr>\n",
       "    <tr>\n",
       "      <th>25%</th>\n",
       "      <td>49.700000</td>\n",
       "      <td>0.650000</td>\n",
       "      <td>31.000000</td>\n",
       "      <td>0.5</td>\n",
       "      <td>20.000000</td>\n",
       "    </tr>\n",
       "    <tr>\n",
       "      <th>50%</th>\n",
       "      <td>61.100000</td>\n",
       "      <td>0.740000</td>\n",
       "      <td>39.000000</td>\n",
       "      <td>0.5</td>\n",
       "      <td>25.000000</td>\n",
       "    </tr>\n",
       "    <tr>\n",
       "      <th>75%</th>\n",
       "      <td>71.700000</td>\n",
       "      <td>0.910000</td>\n",
       "      <td>49.000000</td>\n",
       "      <td>0.5</td>\n",
       "      <td>30.000000</td>\n",
       "    </tr>\n",
       "    <tr>\n",
       "      <th>max</th>\n",
       "      <td>212.000000</td>\n",
       "      <td>2.500000</td>\n",
       "      <td>80.000000</td>\n",
       "      <td>0.5</td>\n",
       "      <td>534.000000</td>\n",
       "    </tr>\n",
       "  </tbody>\n",
       "</table>\n",
       "</div>"
      ],
      "text/plain": [
       "       Temperature    Rainfall      Flyers  Price       Sales\n",
       "count   365.000000  365.000000  365.000000  365.0  365.000000\n",
       "mean     61.224658    0.825973   40.104110    0.5   27.865753\n",
       "std      18.085892    0.273890   13.786445    0.0   30.948132\n",
       "min      15.100000    0.400000  -38.000000    0.5    7.000000\n",
       "25%      49.700000    0.650000   31.000000    0.5   20.000000\n",
       "50%      61.100000    0.740000   39.000000    0.5   25.000000\n",
       "75%      71.700000    0.910000   49.000000    0.5   30.000000\n",
       "max     212.000000    2.500000   80.000000    0.5  534.000000"
      ]
     },
     "execution_count": 11,
     "metadata": {},
     "output_type": "execute_result"
    }
   ],
   "source": [
    "lemonade_df.describe()"
   ]
  },
  {
   "cell_type": "code",
   "execution_count": 18,
   "id": "sweet-happiness",
   "metadata": {},
   "outputs": [
    {
     "data": {
      "image/png": "[encoded data removed]",
      "text/plain": [
       "<Figure size 432x288 with 6 Axes>"
      ]
     },
     "metadata": {
      "needs_background": "light"
     },
     "output_type": "display_data"
    }
   ],
   "source": [
    "lemonade_df.hist()\n",
    "plt.show()"
   ]
  },
  {
   "cell_type": "markdown",
   "id": "annual-chain",
   "metadata": {},
   "source": [
    "* Use the IQR Range Rule and the upper and lower bounds to identify the lower outliers of each column of lemonade.csv, using the multiplier of 1.5. Do these lower outliers make sense?Which outliers should be kept?"
   ]
  },
  {
   "cell_type": "code",
   "execution_count": 14,
   "id": "hybrid-insert",
   "metadata": {},
   "outputs": [
    {
     "name": "stdout",
     "output_type": "stream",
     "text": [
      "Temperature bounds:  (16.700000000000003, 104.7)\n",
      "Rainfall bounds:  (0.26, 1.3)\n",
      "Flyers bounds:  (4.0, 76.0)\n",
      "Price bounds:  (0.5, 0.5)\n",
      "Sales bounds:  (5.0, 45.0)\n"
     ]
    }
   ],
   "source": [
    "numerical_cols = ['Temperature', 'Rainfall', 'Flyers', 'Price', 'Sales']\n",
    "\n",
    "for col in numerical_cols:\n",
    "    upper, lower = utils.generate_outlier_bounds(lemonade_df, col, multiplier=1.5)\n",
    "    print(f\"{col} bounds:  {(lower, upper)}\")"
   ]
  },
  {
   "cell_type": "markdown",
   "id": "premium-married",
   "metadata": {},
   "source": [
    "Based on the distributions, I don't think that the lower bounds for temperature and rainfall shouldn't be used since those distributions are skewed to the right. The sales lower bound doesn't make sense since it is lower than the minimum amount. The bounds for price shouldn't be used since the price is constant."
   ]
  },
  {
   "cell_type": "markdown",
   "id": "sophisticated-croatia",
   "metadata": {},
   "source": [
    "* Use the IQR Range Rule and the upper and lower bounds to identify the upper outliers of each column of lemonade.csv, using the multiplier of 1.5. Do these upper outliers make sense? Which outliers should be kept?\n",
    "\n",
    "The price upper bound should not be used since price is constant. The temperature upper bound looks good since the max value is 212 and it is far from the 3Q temp of 71. The rainfall upper bound looks good as well since the max value is far from the 3Q value. I don't think the flyers upper bound should be used since it looks like it would remove the normality of the distribution. The sales upper bound looks good as well."
   ]
  },
  {
   "cell_type": "markdown",
   "id": "protecting-reverse",
   "metadata": {},
   "source": [
    "* Using the multiplier of 3, IQR Range Rule, and the lower and upper bounds, identify the outliers below the lower bound in each colum of lemonade.csv. Do these lower outliers make sense? Which outliers should be kept?\n",
    "* Using the multiplier of 3, IQR Range Rule, and the lower and upper bounds, identify the outliers above the upper_bound in each colum of lemonade.csv. Do these upper outliers make sense? Which outliers should be kept?"
   ]
  },
  {
   "cell_type": "code",
   "execution_count": 19,
   "id": "cosmetic-western",
   "metadata": {
    "scrolled": true
   },
   "outputs": [
    {
     "name": "stdout",
     "output_type": "stream",
     "text": [
      "Temperature bounds:  (-16.299999999999997, 137.7)\n",
      "Rainfall bounds:  (-0.13, 1.69)\n",
      "Flyers bounds:  (-23.0, 103.0)\n",
      "Price bounds:  (0.5, 0.5)\n",
      "Sales bounds:  (-10.0, 60.0)\n"
     ]
    }
   ],
   "source": [
    "numerical_cols = ['Temperature', 'Rainfall', 'Flyers', 'Price', 'Sales']\n",
    "\n",
    "for col in numerical_cols:\n",
    "    upper, lower = utils.generate_outlier_bounds(lemonade_df, col, multiplier=3)\n",
    "    print(f\"{col} bounds:  {(lower, upper)}\")"
   ]
  },
  {
   "cell_type": "markdown",
   "id": "chief-nurse",
   "metadata": {},
   "source": [
    "The temperature, rainfall, and sales lower bounds do not make sense since they fall below the minimum values for those columns. The price bounds should not be used again since price is constant. The flyers lower bound seems good since its minimum value is -38, but I don't really understand what a negative flyer is. The temperature, rainfall, and sales upper bounds look good. The flyers upper bound is greater than the max value in that column."
   ]
  },
  {
   "cell_type": "markdown",
   "id": "private-negotiation",
   "metadata": {},
   "source": [
    "2. Identify if any columns in lemonade.csv are normally distributed. For normally distributed columns:"
   ]
  },
  {
   "cell_type": "markdown",
   "id": "comic-pearl",
   "metadata": {},
   "source": [
    "Temperature, rainfall, and flyers appear normally distributed."
   ]
  },
  {
   "cell_type": "markdown",
   "id": "corporate-speaking",
   "metadata": {},
   "source": [
    "* Use a 2 sigma decision rule to isolate the outliers."
   ]
  },
  {
   "cell_type": "code",
   "execution_count": 21,
   "id": "distinct-spelling",
   "metadata": {},
   "outputs": [
    {
     "data": {
      "text/plain": [
       "41     212.0\n",
       "166     99.3\n",
       "176    102.6\n",
       "181    102.9\n",
       "190     98.0\n",
       "198     99.3\n",
       "202     99.6\n",
       "207     97.9\n",
       "338     22.0\n",
       "364     15.1\n",
       "Name: Temperature, dtype: float64"
      ]
     },
     "execution_count": 21,
     "metadata": {},
     "output_type": "execute_result"
    }
   ],
   "source": [
    "x = lemonade_df['Temperature']\n",
    "\n",
    "# Calculate the z-score \n",
    "zscores = pd.Series((x - x.mean()) / x.std())\n",
    "\n",
    "# Finds all of the observations two standard deviations or more.\n",
    "temp_outliers = x[zscores.abs() >= 2]\n",
    "temp_outliers"
   ]
  },
  {
   "cell_type": "code",
   "execution_count": 21,
   "id": "designed-prague",
   "metadata": {},
   "outputs": [
    {
     "data": {
      "text/plain": [
       "41     212.0\n",
       "166     99.3\n",
       "176    102.6\n",
       "181    102.9\n",
       "190     98.0\n",
       "198     99.3\n",
       "202     99.6\n",
       "207     97.9\n",
       "338     22.0\n",
       "364     15.1\n",
       "Name: Temperature, dtype: float64"
      ]
     },
     "execution_count": 21,
     "metadata": {},
     "output_type": "execute_result"
    }
   ],
   "source": [
    "x = lemonade_df['Temperature']\n",
    "\n",
    "# Calculate the z-score \n",
    "zscores = pd.Series((x - x.mean()) / x.std())\n",
    "\n",
    "# Finds all of the observations two standard deviations or more.\n",
    "temp_outliers = x[zscores.abs() >= 2]\n",
    "temp_outliers"
   ]
  },
  {
   "cell_type": "code",
   "execution_count": 22,
   "id": "brief-hearts",
   "metadata": {},
   "outputs": [
    {
     "data": {
      "text/plain": [
       "0      2.00\n",
       "5      1.54\n",
       "6      1.54\n",
       "10     1.54\n",
       "15     1.67\n",
       "16     1.43\n",
       "19     1.43\n",
       "23     1.54\n",
       "337    1.54\n",
       "338    1.82\n",
       "342    1.43\n",
       "343    1.82\n",
       "346    1.43\n",
       "347    1.54\n",
       "351    1.43\n",
       "355    1.54\n",
       "359    1.43\n",
       "363    1.43\n",
       "364    2.50\n",
       "Name: Rainfall, dtype: float64"
      ]
     },
     "execution_count": 22,
     "metadata": {},
     "output_type": "execute_result"
    }
   ],
   "source": [
    "x = lemonade_df['Rainfall']\n",
    "\n",
    "# Calculate the z-score \n",
    "zscores = pd.Series((x - x.mean()) / x.std())\n",
    "\n",
    "# Finds all of the observations two standard deviations or more.\n",
    "rain_outliers = x[zscores.abs() >= 2]\n",
    "rain_outliers"
   ]
  },
  {
   "cell_type": "code",
   "execution_count": 23,
   "id": "overhead-parts",
   "metadata": {},
   "outputs": [
    {
     "data": {
      "text/plain": [
       "166    77\n",
       "170    70\n",
       "171    76\n",
       "182    68\n",
       "183    68\n",
       "194    80\n",
       "198    76\n",
       "203    72\n",
       "204    69\n",
       "207    74\n",
       "324   -38\n",
       "338    11\n",
       "364     9\n",
       "Name: Flyers, dtype: int64"
      ]
     },
     "execution_count": 23,
     "metadata": {},
     "output_type": "execute_result"
    }
   ],
   "source": [
    "x = lemonade_df['Flyers']\n",
    "\n",
    "# Calculate the z-score \n",
    "zscores = pd.Series((x - x.mean()) / x.std())\n",
    "\n",
    "# Finds all of the observations two standard deviations or more.\n",
    "flyer_outliers = x[zscores.abs() >= 2]\n",
    "flyer_outliers"
   ]
  },
  {
   "cell_type": "markdown",
   "id": "cheap-robert",
   "metadata": {},
   "source": [
    "* Do these make sense?"
   ]
  },
  {
   "cell_type": "markdown",
   "id": "indie-inside",
   "metadata": {},
   "source": [
    "Some of the temperature outliers make sense because I don't think they were selling lemonade in 212 degree weather or in 15 degree weather. I don't understand what negative flyers means. The rainfall outliers don't seem like they should be removed."
   ]
  },
  {
   "cell_type": "markdown",
   "id": "primary-financing",
   "metadata": {},
   "source": [
    "* Should certain outliers be kept or removed?"
   ]
  },
  {
   "cell_type": "markdown",
   "id": "fitting-compensation",
   "metadata": {},
   "source": [
    "Yes, some of the crazy temperature values and probably the negative flyer value."
   ]
  },
  {
   "cell_type": "markdown",
   "id": "unlikely-contest",
   "metadata": {},
   "source": [
    "3. Now use a 3 sigma decision rule to isolate the outliers in the normally distributed columns from lemonade.csv"
   ]
  },
  {
   "cell_type": "code",
   "execution_count": 24,
   "id": "brave-equilibrium",
   "metadata": {},
   "outputs": [],
   "source": [
    "def find_outliers_with_sigma(df, cols, sigma):\n",
    "    outliers_dict = {}\n",
    "    \n",
    "    for col in cols:\n",
    "        x = df[col]\n",
    "\n",
    "        zscores = pd.Series((x - x.mean()) / x.std())\n",
    "        flyer_outliers = x[zscores.abs() >= sigma]\n",
    "        \n",
    "        outliers_dict[col + \"_outliers\"] = flyer_outliers\n",
    "    \n",
    "    return outliers_dict"
   ]
  },
  {
   "cell_type": "code",
   "execution_count": 26,
   "id": "desirable-salmon",
   "metadata": {},
   "outputs": [],
   "source": [
    "outliers = find_outliers_with_sigma(lemonade_df, ['Temperature', 'Rainfall', 'Flyers'], 3)"
   ]
  },
  {
   "cell_type": "code",
   "execution_count": 27,
   "id": "scenic-receipt",
   "metadata": {},
   "outputs": [
    {
     "data": {
      "text/plain": [
       "41    212.0\n",
       "Name: Temperature, dtype: float64"
      ]
     },
     "execution_count": 27,
     "metadata": {},
     "output_type": "execute_result"
    }
   ],
   "source": [
    "outliers['Temperature_outliers']"
   ]
  },
  {
   "cell_type": "code",
   "execution_count": 28,
   "id": "determined-trial",
   "metadata": {},
   "outputs": [
    {
     "data": {
      "text/plain": [
       "0      2.00\n",
       "15     1.67\n",
       "338    1.82\n",
       "343    1.82\n",
       "364    2.50\n",
       "Name: Rainfall, dtype: float64"
      ]
     },
     "execution_count": 28,
     "metadata": {},
     "output_type": "execute_result"
    }
   ],
   "source": [
    "outliers['Rainfall_outliers']"
   ]
  },
  {
   "cell_type": "code",
   "execution_count": 29,
   "id": "robust-deputy",
   "metadata": {},
   "outputs": [
    {
     "data": {
      "text/plain": [
       "324   -38\n",
       "Name: Flyers, dtype: int64"
      ]
     },
     "execution_count": 29,
     "metadata": {},
     "output_type": "execute_result"
    }
   ],
   "source": [
    "outliers['Flyers_outliers']"
   ]
  },
  {
   "cell_type": "markdown",
   "id": "hispanic-plastic",
   "metadata": {},
   "source": [
    "These outliers make more sense."
   ]
  },
  {
   "cell_type": "code",
   "execution_count": null,
   "id": "printable-ghost",
   "metadata": {},
   "outputs": [],
   "source": []
  }
 ],
 "metadata": {
  "kernelspec": {
   "display_name": "Python 3",
   "language": "python",
   "name": "python3"
  },
  "language_info": {
   "codemirror_mode": {
    "name": "ipython",
    "version": 3
   },
   "file_extension": ".py",
   "mimetype": "text/x-python",
   "name": "python",
   "nbconvert_exporter": "python",
   "pygments_lexer": "ipython3",
   "version": "3.8.5"
  }
 },
 "nbformat": 4,
 "nbformat_minor": 5
}
